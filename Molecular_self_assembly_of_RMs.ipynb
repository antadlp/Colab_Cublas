{
  "nbformat": 4,
  "nbformat_minor": 0,
  "metadata": {
    "colab": {
      "provenance": [],
      "authorship_tag": "ABX9TyNmNLi/vXX9KEUj/nKJsCgp",
      "include_colab_link": true
    },
    "kernelspec": {
      "name": "python3",
      "display_name": "Python 3"
    },
    "language_info": {
      "name": "python"
    }
  },
  "cells": [
    {
      "cell_type": "markdown",
      "metadata": {
        "id": "view-in-github",
        "colab_type": "text"
      },
      "source": [
        "<a href=\"https://colab.research.google.com/github/antadlp/Colab_Cublas/blob/main/Molecular_self_assembly_of_RMs.ipynb\" target=\"_parent\"><img src=\"https://colab.research.google.com/assets/colab-badge.svg\" alt=\"Open In Colab\"/></a>"
      ]
    },
    {
      "cell_type": "code",
      "execution_count": null,
      "metadata": {
        "id": "FpMWqXjOrn4O"
      },
      "outputs": [],
      "source": []
    },
    {
      "cell_type": "code",
      "source": [
        "import numpy as np\n",
        "\n",
        "def eskici_naot(**kwargs):\n",
        "\n",
        "    # default values in paper, constants\n",
        "    no_aot = kwargs.get(\"no_aot\", 13.6) # adimensional\n",
        "    a_aot = kwargs.get(\"a_aot\", 59) # (angstroms)^2\n",
        "    vbar = kwargs.get(\"vbar\", 33) # (angstroms)^3\n",
        "\n",
        "    w0 = kwargs.get(\"w0\", 7.5) # independent value\n",
        "\n",
        "    A = np.divide(np.power(vbar, 2), np.power(a_aot, 3))\n",
        "    B = 36*np.pi*np.power((w0 + 1.5), 2)\n",
        "\n",
        "    n_aot = A*B + no_aot\n",
        "\n",
        "    return n_aot\n",
        "\n",
        "\n",
        "w0=np.array([0, 2.5, 5, 7.5, 10, 12.5, 15.0])\n",
        "eskici_naot(w0=w0)\n",
        "np.round(eskici_naot(w0=w0))\n"
      ],
      "metadata": {
        "colab": {
          "base_uri": "https://localhost:8080/"
        },
        "id": "YnTRqgButNFn",
        "outputId": "f4a6303d-8090-4838-f9ca-54daa24d151a"
      },
      "execution_count": null,
      "outputs": [
        {
          "output_type": "execute_result",
          "data": {
            "text/plain": [
              "array([ 15.,  23.,  39.,  62.,  93., 131., 177.])"
            ]
          },
          "metadata": {},
          "execution_count": 1
        }
      ]
    },
    {
      "cell_type": "code",
      "source": [],
      "metadata": {
        "id": "-AshzgUKtOYF"
      },
      "execution_count": null,
      "outputs": []
    }
  ]
}